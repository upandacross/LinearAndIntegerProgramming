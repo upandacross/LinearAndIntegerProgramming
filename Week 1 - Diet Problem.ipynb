{
 "metadata": {
  "name": "",
  "signature": "sha256:e22965d54ebbffff37b486772f3ecde3867bc2b207aef762040208ae9b3fe979"
 },
 "nbformat": 3,
 "nbformat_minor": 0,
 "worksheets": [
  {
   "cells": [
    {
     "cell_type": "markdown",
     "metadata": {},
     "source": [
      "An IPython notebook showing how to solve the diet program using python and cvxopt module."
     ]
    },
    {
     "cell_type": "markdown",
     "metadata": {},
     "source": [
      "<a id='The_Diet_Problem'></a>\n",
      "#The Diet Problem\n",
      "\n",
      "They provide an excel spreadsheet with three sheets:\n",
      "\n",
      "    1. Foods - Nutrients - Prices\n",
      "    2. Unit - Max - Min\n",
      "    3. Nutrients per food\n",
      "    \n",
      "Save each sheet into a csv file: \n",
      "    \n",
      "    1. FoodsData.csv\n",
      "    2. NutrientsPerFood.csv\n",
      "    3. UnitsMaxMin.csv\n"
     ]
    },
    {
     "cell_type": "markdown",
     "metadata": {},
     "source": [
      "#Solving with cvxopt"
     ]
    },
    {
     "cell_type": "code",
     "collapsed": false,
     "input": [
      "#from the lecture,\n",
      "\n",
      "from cvxopt import solvers, matrix, spmatrix\n",
      "import pandas as pd\n",
      "from pandas.io.parsers import read_csv\n"
     ],
     "language": "python",
     "metadata": {},
     "outputs": [],
     "prompt_number": 1
    },
    {
     "cell_type": "code",
     "collapsed": false,
     "input": [
      "foodData = read_csv('FoodsData.csv', index_col=1)\n",
      "foodData.dropna(inplace=True)\n",
      "print 'FoodsData shape:', shape(foodData), '\\ncolumns:', foodData.columns.values\n",
      "foods = foodData.Food.values\n",
      "foodNutrients = foodData[foodData.columns[1:-1]]\n",
      "foodPrices = pd.DataFrame(foodData[foodData.columns[-1]])\n",
      "foodPrices.columns = ['Price']\n"
     ],
     "language": "python",
     "metadata": {},
     "outputs": [
      {
       "output_type": "stream",
       "stream": "stdout",
       "text": [
        "FoodsData shape: (64, 13) \n",
        "columns: ['Food' 'Calories' 'Cholesterol' 'Total_Fat' 'Sodium' 'Carbohydrates'\n",
        " 'Dietary_Fiber' 'Protein' 'Vit_A' 'Vit_C' 'Calcium' 'Iron'\n",
        " 'Price/Serving ($)']\n"
       ]
      }
     ],
     "prompt_number": 2
    },
    {
     "cell_type": "code",
     "collapsed": false,
     "input": [
      "C = matrix(foodPrices.values)\n",
      "print 'C shape:', shape(C), '\\ncolumns:', foodPrices.columns[-1]"
     ],
     "language": "python",
     "metadata": {},
     "outputs": [
      {
       "output_type": "stream",
       "stream": "stdout",
       "text": [
        "C shape: (64, 1) \n",
        "columns: Price\n"
       ]
      }
     ],
     "prompt_number": 3
    },
    {
     "cell_type": "code",
     "collapsed": true,
     "input": [
      "Ahat = read_csv('NutrientsPerFood.csv', index_col=0)\n",
      "Ahat.dropna(inplace=True)\n",
      "Ahat.columns = list(foodNutrients.columns)\n",
      "Ahat = Ahat.T\n",
      "G = matrix(np.vstack((Ahat,-Ahat,-np.eye(64))),(86,64))\n",
      "print 'G shape:', shape(G) # now A*x has 64 elements in each row for 64 foods in x\n"
     ],
     "language": "python",
     "metadata": {},
     "outputs": [
      {
       "output_type": "stream",
       "stream": "stdout",
       "text": [
        "G shape: (86, 64)\n"
       ]
      }
     ],
     "prompt_number": 4
    },
    {
     "cell_type": "markdown",
     "metadata": {},
     "source": [
      "Constructing cvxopt matrix from Pandas dataframe, we want 64 columns for 64 foods, and 11 rows for 11 nutrients.  Printing G from single instance of A.T shows correct matrix"
     ]
    },
    {
     "cell_type": "code",
     "collapsed": false,
     "input": [
      "UMM = read_csv('UnitsMaxMin.csv')\n",
      "print 'UUM shape:', shape(UMM), '\\ncolumns:', UMM.columns.values\n",
      "U = matrix(UMM.Max.as_matrix())\n",
      "L = matrix(UMM.Min.as_matrix())\n",
      "z = np.zeros((64,1))\n",
      "print 'zero vector shape:', shape(z)\n",
      "h = matrix(np.vstack((U,-L,z)),(11*2+64,1))\n",
      "print 'h shape:', shape(h)\n"
     ],
     "language": "python",
     "metadata": {},
     "outputs": [
      {
       "output_type": "stream",
       "stream": "stdout",
       "text": [
        "UUM shape: (11, 4) \n",
        "columns: ['Nutrient' 'Unit' 'Min' 'Max']\n",
        "zero vector shape: (64, 1)\n",
        "h shape: (86, 1)\n"
       ]
      }
     ],
     "prompt_number": 5
    },
    {
     "cell_type": "code",
     "collapsed": false,
     "input": [
      "sol = solvers.lp(C, G, h)\n",
      "x = sol['x']\n",
      "\n",
      "for i,ix in enumerate(x):\n",
      "    if ix > 1e-3:\n",
      "        print '{:>30s} ({}): {:.2f}'.format(foods[i], i, ix)"
     ],
     "language": "python",
     "metadata": {},
     "outputs": [
      {
       "output_type": "stream",
       "stream": "stdout",
       "text": [
        "     pcost       dcost       gap    pres   dres   k/t\n",
        " 0:  1.6733e+01 -8.7125e+04  9e+04  4e-03  3e+00  1e+00\n",
        " 1:  5.0912e+01 -8.4748e+04  9e+04  4e-03  3e+00  2e+01\n",
        " 2:  1.1510e+02 -5.6800e+04  6e+04  3e-03  2e+00  7e+01\n",
        " 3:  8.4567e+01 -2.0149e+04  2e+04  1e-03  7e-01  5e+01\n",
        " 4:  5.9500e+01 -4.0208e+03  5e+03  2e-04  1e-01  2e+01\n",
        " 5:  4.0724e+01 -1.8474e+03  2e+03  9e-05  7e-02  9e+00\n",
        " 6:  3.4855e+01 -1.7701e+03  2e+03  9e-05  6e-02  1e+01\n",
        " 7:  2.2625e+01 -4.7625e+02  6e+02  2e-05  2e-02  4e+00\n",
        " 8:  1.5436e+01 -3.3701e+02  4e+02  2e-05  1e-02  3e+00\n",
        " 9:  8.8014e+00 -8.5653e+01  1e+02  5e-06  3e-03  8e-01\n",
        "10:  6.9663e+00 -7.2242e+01  8e+01  4e-06  3e-03  8e-01\n",
        "11:  4.3190e+00 -1.4528e+01  2e+01  9e-07  7e-04  2e-01\n",
        "12:  3.0726e+00 -1.5411e+00  5e+00  2e-07  2e-04  5e-02\n",
        "13:  2.1658e+00 -2.0435e-01  2e+00  1e-07  8e-05  3e-02\n",
        "14:  1.2750e+00  7.4609e-01  5e-01  3e-08  2e-05  6e-03\n",
        "15:  1.0515e+00  8.8675e-01  2e-01  8e-09  6e-06  2e-03\n",
        "16:  9.7046e-01  9.4682e-01  2e-02  1e-09  8e-07  3e-04\n",
        "17:  9.5739e-01  9.5517e-01  2e-03  1e-10  8e-08  3e-05\n",
        "18:  9.5603e-01  9.5600e-01  3e-05  1e-12  1e-09  3e-07\n",
        "19:  9.5601e-01  9.5601e-01  3e-07  1e-14  1e-11  3e-09\n",
        "Optimal solution found.\n",
        "                   Carrots,Raw (1): 0.24\n",
        "               Potatoes, Baked (6): 3.54\n",
        "                     Skim Milk (26): 2.17\n",
        "                 Peanut Butter (48): 3.60\n",
        "            Popcorn,Air-Popped (52): 4.82\n"
       ]
      }
     ],
     "prompt_number": 6
    },
    {
     "cell_type": "code",
     "collapsed": false,
     "input": [],
     "language": "python",
     "metadata": {},
     "outputs": [],
     "prompt_number": 6
    }
   ],
   "metadata": {}
  }
 ]
}